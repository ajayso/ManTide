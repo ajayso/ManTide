{
 "cells": [
  {
   "cell_type": "code",
   "execution_count": 2,
   "metadata": {},
   "outputs": [],
   "source": [
    "# Imports\n",
    "#Importing dependencies \n",
    "import pandas as pd\n",
    "import numpy as np\n",
    "import talib as ta\n",
    "import math\n",
    "import matplotlib.pyplot as plt\n",
    "plt.rcParams[\"figure.figsize\"] = (20,10) #change this if you want to reduce the plot images\n",
    "import locale\n",
    "from locale import atof\n",
    "locale.setlocale(locale.LC_NUMERIC, '') \n",
    "\n",
    "#Quandl dependency with API key\n",
    "import quandl\n",
    "quandl.ApiConfig.api_key = \"f7_JWui3ztp2Yxh_xddT\""
   ]
  },
  {
   "cell_type": "code",
   "execution_count": 3,
   "metadata": {},
   "outputs": [],
   "source": [
    "scriptcode = \"ASHOKLEY\"\n",
    "df = quandl.get(\"NSE/\" + scriptcode)\n",
    "data = pd.DataFrame(df, columns = ['Date', 'Open','High' ,'Low', 'Last','Close', 'Total Trade Quantity' ,'Turnover (Lacs)'])\n",
    "data['Date'] = data['Date'].apply(pd.to_datetime)\n",
    "data= data.set_index(\"Date\")\n",
    "data = data.dropna(axis=0)\n"
   ]
  },
  {
   "cell_type": "code",
   "execution_count": null,
   "metadata": {},
   "outputs": [
    {
     "name": "stdout",
     "output_type": "stream",
     "text": [
      "SQL Connected with Commodities\n",
      "SQL Connected with Currencies\n",
      "SQL Connected to World Markets\n",
      "Commencing Feature Extraction ...\n",
      "\n"
     ]
    }
   ],
   "source": [
    "from MainProcess import DataManager\n",
    "dm = DataManager()\n",
    "datacopy = dm.Load(data,5000, \"Close\", 0.9)\n",
    "\n",
    "\n"
   ]
  },
  {
   "cell_type": "code",
   "execution_count": 4,
   "metadata": {},
   "outputs": [
    {
     "ename": "NameError",
     "evalue": "name 'data' is not defined",
     "output_type": "error",
     "traceback": [
      "\u001b[1;31m---------------------------------------------------------------------------\u001b[0m",
      "\u001b[1;31mNameError\u001b[0m                                 Traceback (most recent call last)",
      "\u001b[1;32m<ipython-input-4-047ed65ff157>\u001b[0m in \u001b[0;36m<module>\u001b[1;34m\u001b[0m\n\u001b[1;32m----> 1\u001b[1;33m \u001b[0mdata\u001b[0m\u001b[1;33m.\u001b[0m\u001b[0mshape\u001b[0m\u001b[1;33m\u001b[0m\u001b[1;33m\u001b[0m\u001b[0m\n\u001b[0m",
      "\u001b[1;31mNameError\u001b[0m: name 'data' is not defined"
     ]
    }
   ],
   "source": []
  },
  {
   "cell_type": "code",
   "execution_count": null,
   "metadata": {},
   "outputs": [],
   "source": []
  }
 ],
 "metadata": {
  "kernelspec": {
   "display_name": "Python 3",
   "language": "python",
   "name": "python3"
  }
 },
 "nbformat": 4,
 "nbformat_minor": 2
}
